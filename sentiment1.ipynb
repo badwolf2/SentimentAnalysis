{
 "cells": [
  {
   "cell_type": "code",
   "execution_count": 13,
   "metadata": {},
   "outputs": [],
   "source": [
    "from sklearn.feature_extraction.text import CountVectorizer\n",
    "\n",
    "from sklearn.metrics import accuracy_score\n",
    "from sklearn.model_selection import train_test_split\n",
    "\n",
    "from sklearn.linear_model import LogisticRegression\n",
    "from sklearn.svm import SVC\n",
    "from sklearn.naive_bayes import MultinomialNB, BernoulliNB\n",
    "from sklearn.linear_model import Perceptron"
   ]
  },
  {
   "cell_type": "code",
   "execution_count": 14,
   "metadata": {},
   "outputs": [],
   "source": [
    "comments = []\n",
    "with open('datacomment.txt','r', encoding = 'utf8') as f:\n",
    "    comments = f.read().split('\\n');\n",
    "#comments[500:510]"
   ]
  },
  {
   "cell_type": "code",
   "execution_count": 15,
   "metadata": {},
   "outputs": [],
   "source": [
    "labels = []\n",
    "with open('datalabel.txt','r', encoding = 'utf8') as f:\n",
    "    labels = f.read().split('\\n');\n",
    "#labels[500:510]"
   ]
  },
  {
   "cell_type": "code",
   "execution_count": 16,
   "metadata": {},
   "outputs": [],
   "source": [
    "cv = CountVectorizer(binary=True)\n",
    "cv.fit(comments)\n",
    "comments = cv.transform(comments)"
   ]
  },
  {
   "cell_type": "code",
   "execution_count": 17,
   "metadata": {},
   "outputs": [],
   "source": [
    "X_train, X_test, y_train, y_test = train_test_split(\n",
    "    comments, labels, train_size = 0.5\n",
    ")"
   ]
  },
  {
   "cell_type": "code",
   "execution_count": 18,
   "metadata": {},
   "outputs": [],
   "source": [
    "def SVM():\n",
    "    clf = SVC(kernel = 'linear', C = 1e5) # just a big number \n",
    "    clf.fit(X_train.toarray(), y_train) \n",
    "    w = clf.coef_\n",
    "    b = clf.intercept_\n",
    "    #print('w = ', w)\n",
    "    #print('b = ', b)\n",
    "    print (\"Final Accuracy SVM: %s\"% accuracy_score(y_test, clf.predict(X_test.toarray())))"
   ]
  },
  {
   "cell_type": "code",
   "execution_count": 19,
   "metadata": {},
   "outputs": [],
   "source": [
    "def multiNB():\n",
    "    clf = MultinomialNB()\n",
    "    clf.fit(X_train, y_train)\n",
    "\n",
    "    y_pred_train = clf.predict(X_train)\n",
    "    y_pred_test = clf.predict(X_test)\n",
    "\n",
    "    acc_test = accuracy_score(y_pred_test,y_test)\n",
    "    acc_train = accuracy_score(y_pred_train,y_train)\n",
    "    #print('accuracy_train: ', acc_train*100)\n",
    "    print('Final Accuracy multi Naive Bayes: ', acc_test*100)"
   ]
  },
  {
   "cell_type": "code",
   "execution_count": 20,
   "metadata": {},
   "outputs": [],
   "source": [
    "def perceptron():\n",
    "    clf = Perceptron(tol=1e-3, random_state=0)\n",
    "    clf.fit(X_train, y_train)\n",
    "    acc_train=clf.score(X_train, y_train)\n",
    "    acc_test =clf.score(X_test, y_test)\n",
    "    #print('accurracy_train of folder {}: ', acc_train)\n",
    "    print('Final Accuracy perceptron: ', acc_test)"
   ]
  },
  {
   "cell_type": "code",
   "execution_count": 25,
   "metadata": {},
   "outputs": [
    {
     "name": "stderr",
     "output_type": "stream",
     "text": [
      "C:\\Users\\Thuy\\Anaconda3\\lib\\site-packages\\sklearn\\model_selection\\_split.py:2179: FutureWarning: From version 0.21, test_size will always complement train_size unless both are specified.\n",
      "  FutureWarning)\n"
     ]
    }
   ],
   "source": [
    "X_trainlog, X_testlog, y_trainlog, y_testlog = train_test_split(\n",
    "    X_train, y_train, train_size = 0.75\n",
    ")\n",
    "def logistic():\n",
    "#     for c in [0.01, 0.05, 0.25, 0.5, 1]:\n",
    "#         lr = LogisticRegression(C=c)\n",
    "#         lr.fit(X_trainlog, y_trainlog)\n",
    "#         print (\"Accuracy for C=%s: %s\" % (c, accuracy_score(y_testlog, lr.predict(X_testlog))*100))\n",
    "        \n",
    "    final_model = LogisticRegression(C=0.05)\n",
    "    final_model.fit(X_train, y_train)\n",
    "    print (\"Final Accuracy logistic: %s\"% accuracy_score(y_test, final_model.predict(X_test)))\n",
    "#logistic()"
   ]
  },
  {
   "cell_type": "code",
   "execution_count": 24,
   "metadata": {},
   "outputs": [
    {
     "name": "stdout",
     "output_type": "stream",
     "text": [
      "Final Accuracy multi Naive Bayes:  84.36853002070393\n",
      "Final Accuracy logistic: 0.8291925465838509\n",
      "Final Accuracy perceptron:  0.7846790890269151\n"
     ]
    },
    {
     "name": "stderr",
     "output_type": "stream",
     "text": [
      "C:\\Users\\Thuy\\Anaconda3\\lib\\site-packages\\sklearn\\linear_model\\logistic.py:433: FutureWarning: Default solver will be changed to 'lbfgs' in 0.22. Specify a solver to silence this warning.\n",
      "  FutureWarning)\n"
     ]
    },
    {
     "name": "stdout",
     "output_type": "stream",
     "text": [
      "Final Accuracy SVM: 0.7888198757763976\n"
     ]
    }
   ],
   "source": [
    "multiNB()\n",
    "logistic()\n",
    "perceptron()\n",
    "SVM()"
   ]
  },
  {
   "cell_type": "code",
   "execution_count": null,
   "metadata": {},
   "outputs": [],
   "source": []
  },
  {
   "cell_type": "code",
   "execution_count": null,
   "metadata": {},
   "outputs": [],
   "source": []
  }
 ],
 "metadata": {
  "kernelspec": {
   "display_name": "Python 3",
   "language": "python",
   "name": "python3"
  },
  "language_info": {
   "codemirror_mode": {
    "name": "ipython",
    "version": 3
   },
   "file_extension": ".py",
   "mimetype": "text/x-python",
   "name": "python",
   "nbconvert_exporter": "python",
   "pygments_lexer": "ipython3",
   "version": "3.7.1"
  }
 },
 "nbformat": 4,
 "nbformat_minor": 2
}
