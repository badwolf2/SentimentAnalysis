{
 "cells": [
  {
   "cell_type": "code",
   "execution_count": 1,
   "metadata": {},
   "outputs": [],
   "source": [
    "from sklearn.feature_extraction.text import CountVectorizer\n",
    "\n",
    "from sklearn.metrics import accuracy_score\n",
    "from sklearn.model_selection import train_test_split\n",
    "\n",
    "from sklearn.linear_model import LogisticRegression\n",
    "from sklearn.svm import SVC\n",
    "\n",
    "from sklearn.naive_bayes import MultinomialNB, BernoulliNB\n",
    "from sklearn.linear_model import Perceptron"
   ]
  },
  {
   "cell_type": "code",
   "execution_count": 2,
   "metadata": {},
   "outputs": [],
   "source": [
    "import pandas as pd\n",
    "\n",
    "def readData():\n",
    "    dftrain = pd.read_excel('data86/dataTrain.xlsx', sheet_name='dataTrain')\n",
    "    dftest = pd.read_excel('data86/dataTest.xlsx', sheet_name='dataTest')\n",
    "    \n",
    "    comTrain = dftrain['comment'].values.tolist()\n",
    "    y_train= dftrain['label'].values.tolist()\n",
    "    comTest = dftest['comment'].values.tolist()\n",
    "    y_test = dftest['label'].values.tolist()\n",
    "    return [comTrain, y_train, comTest, y_test]"
   ]
  },
  {
   "cell_type": "code",
   "execution_count": null,
   "metadata": {},
   "outputs": [],
   "source": []
  },
  {
   "cell_type": "code",
   "execution_count": 3,
   "metadata": {},
   "outputs": [],
   "source": [
    "# làm sạch dữ liệu\n",
    "import re\n",
    "import pyvi\n",
    "from pyvi import ViTokenizer \n",
    "\n",
    "def preprocess_reviews(reviews):\n",
    "    REPLACE_NO_SPACE = re.compile(\"[.;:\\',\\\"()\\[\\]]\")#(\"[.;:!\\'?,\\\"()\\[\\]]\")\n",
    "    REPLACE_WITH_SPACE = re.compile(\"(<br\\s*/><br\\s*/>)|(\\-)|(\\/)\")\n",
    "    reviews = [REPLACE_NO_SPACE.sub(\"\", str(line).lower()) for line in reviews]\n",
    "    reviews = [REPLACE_WITH_SPACE.sub(\" \", line) for line in reviews]\n",
    "    reviews = [line.lstrip() for line in reviews]\n",
    "    reviews = [ViTokenizer.tokenize(rev) for rev in reviews]\n",
    "    return reviews\n"
   ]
  },
  {
   "cell_type": "code",
   "execution_count": 4,
   "metadata": {},
   "outputs": [],
   "source": [
    "# vector hóa data\n",
    "def vectorizer(com):\n",
    "    cv = CountVectorizer(binary=True)\n",
    "    cv.fit(comTrain)\n",
    "    X_train = cv.transform(comTrain)\n",
    "    X_test = cv.transform(com)\n",
    "    return [X_train,X_test]"
   ]
  },
  {
   "cell_type": "code",
   "execution_count": 5,
   "metadata": {},
   "outputs": [],
   "source": [
    "def SVM():\n",
    "    clf = SVC(kernel = 'linear', C = 1e5) # just a big number \n",
    "    clf.fit(X_train.toarray(), y_train) \n",
    "    w = clf.coef_\n",
    "    b = clf.intercept_\n",
    "    #print('w = ', w)\n",
    "    #print('b = ', b)\n",
    "    print (\"Final Accuracy SVM: %s\"% accuracy_score(y_test, clf.predict(X_test.toarray())))\n",
    "    #return clf"
   ]
  },
  {
   "cell_type": "code",
   "execution_count": 6,
   "metadata": {},
   "outputs": [],
   "source": [
    "def multiNB():\n",
    "    clf = MultinomialNB()\n",
    "    clf.fit(X_train, y_train)\n",
    "\n",
    "    y_pred_train = clf.predict(X_train)\n",
    "    y_pred_test = clf.predict(X_test)\n",
    "\n",
    "    acc_test = accuracy_score(y_pred_test,y_test)\n",
    "    acc_train = accuracy_score(y_pred_train,y_train)\n",
    "    #print('accuracy_train: ', acc_train)\n",
    "    print('Final Accuracy multi Naive Bayes: ', acc_test)"
   ]
  },
  {
   "cell_type": "code",
   "execution_count": 7,
   "metadata": {},
   "outputs": [],
   "source": [
    "def perceptron():\n",
    "    clf = Perceptron(tol=1e-3, random_state=0)\n",
    "    clf.fit(X_train, y_train)\n",
    "    acc_train=clf.score(X_train, y_train)\n",
    "    acc_test =clf.score(X_test, y_test)\n",
    "    #print('accurracy_train of folder {}: ', acc_train)\n",
    "    print('Final Accuracy perceptron: ', acc_test)"
   ]
  },
  {
   "cell_type": "code",
   "execution_count": 8,
   "metadata": {},
   "outputs": [],
   "source": [
    "# X_trainlog, X_testlog, y_trainlog, y_testlog = train_test_split(\n",
    "#     X_train, y_train, train_size = 0.75\n",
    "# )\n",
    "def logistic():\n",
    "#     for c in [0.01, 0.05, 0.25, 0.5, 1]:\n",
    "#         lr = LogisticRegression(C=c)\n",
    "#         lr.fit(X_trainlog, y_trainlog)\n",
    "#         print (\"Accuracy for C=%s: %s\" % (c, accuracy_score(y_testlog, lr.predict(X_testlog))))\n",
    "\n",
    "    final_model = LogisticRegression(C=0.5)\n",
    "    final_model.fit(X_train, y_train)\n",
    "    print (\"Final Accuracy logistic: %s\"% accuracy_score(y_test, final_model.predict(X_test)))"
   ]
  },
  {
   "cell_type": "code",
   "execution_count": 9,
   "metadata": {},
   "outputs": [],
   "source": [
    "[comTrain, y_train, comTest, y_test] = readData()\n",
    "comTrain = preprocess_reviews(comTrain)\n",
    "comTest = preprocess_reviews(comTest)\n",
    "[X_train,X_test] = vectorizer(comTest)\n",
    "\n"
   ]
  },
  {
   "cell_type": "code",
   "execution_count": 12,
   "metadata": {},
   "outputs": [
    {
     "name": "stdout",
     "output_type": "stream",
     "text": [
      "Final Accuracy multi Naive Bayes:  0.8675324675324675\n"
     ]
    },
    {
     "name": "stderr",
     "output_type": "stream",
     "text": [
      "C:\\Users\\Thuy\\Anaconda3\\lib\\site-packages\\sklearn\\linear_model\\logistic.py:433: FutureWarning: Default solver will be changed to 'lbfgs' in 0.22. Specify a solver to silence this warning.\n",
      "  FutureWarning)\n"
     ]
    },
    {
     "name": "stdout",
     "output_type": "stream",
     "text": [
      "Final Accuracy logistic: 0.8519480519480519\n",
      "Final Accuracy perceptron:  0.8051948051948052\n",
      "Final Accuracy SVM: 0.8025974025974026\n"
     ]
    }
   ],
   "source": [
    "multiNB()\n",
    "logistic()\n",
    "perceptron()\n",
    "SVM()"
   ]
  },
  {
   "cell_type": "code",
   "execution_count": 13,
   "metadata": {},
   "outputs": [
    {
     "data": {
      "text/plain": [
       "1"
      ]
     },
     "execution_count": 13,
     "metadata": {},
     "output_type": "execute_result"
    }
   ],
   "source": [
    "def multiNBPre(comment):\n",
    "    clf = MultinomialNB()\n",
    "    clf.fit(X_train, y_train)\n",
    "    y_pred_test = clf.predict(comment)\n",
    "    return y_pred_test[0]\n",
    "def predict(comment):\n",
    "    [a,check] = vectorizer([comment])\n",
    "    return multiNBPre(check)\n",
    "predict('may nay khong tot')"
   ]
  },
  {
   "cell_type": "code",
   "execution_count": 14,
   "metadata": {},
   "outputs": [
    {
     "name": "stdout",
     "output_type": "stream",
     "text": [
      " * Serving Flask app \"__main__\" (lazy loading)\n",
      " * Environment: production\n",
      "   WARNING: This is a development server. Do not use it in a production deployment.\n",
      "   Use a production WSGI server instead.\n",
      " * Debug mode: off\n"
     ]
    },
    {
     "name": "stderr",
     "output_type": "stream",
     "text": [
      " * Running on http://localhost:7000/ (Press CTRL+C to quit)\n",
      "127.0.0.1 - - [03/Apr/2020 08:39:45] \"GET / HTTP/1.1\" 302 -\n",
      "127.0.0.1 - - [03/Apr/2020 08:39:45] \"GET /home HTTP/1.1\" 200 -\n",
      "127.0.0.1 - - [03/Apr/2020 08:39:45] \"GET /favicon.ico HTTP/1.1\" 404 -\n",
      "127.0.0.1 - - [03/Apr/2020 08:48:21] \"POST /home HTTP/1.1\" 200 -\n",
      "127.0.0.1 - - [03/Apr/2020 08:48:42] \"POST /home HTTP/1.1\" 200 -\n"
     ]
    }
   ],
   "source": [
    "from flask import Flask,url_for,request,redirect,render_template\n",
    "app = Flask(__name__)\n",
    "\n",
    "@app.route('/')\n",
    "def welcome():\n",
    "    return redirect('/home')\n",
    "\n",
    "@app.route('/home',methods=['GET','POST'])\n",
    "def home():\n",
    "    res =\"\"\n",
    "    err = \"\"\n",
    "    if request.method == 'POST':\n",
    "        label = predict(request.form['comment'])\n",
    "        if label == 1:\n",
    "            res = 'Tích cực' # 'positive'\n",
    "        else:\n",
    "            res =   'Tiêu cực' #'negative'\n",
    "    return render_template('home.html',result = res, error = err)\n",
    "\n",
    "@app.route('/login',methods =['GET','POST'])\n",
    "def login():\n",
    "    print(request.method)\n",
    "    error = ''\n",
    "    if request.method =='POST':\n",
    "        if request.form['username']!='admin':\n",
    "            error = 'ERROR'\n",
    "        else:\n",
    "            return redirect(url_for('home'))\n",
    "    return render_template('login.html',error=error)\n",
    "\n",
    "if __name__=='__main__':\n",
    "    app.run(host='localhost', port=7000, debug=False)"
   ]
  },
  {
   "cell_type": "code",
   "execution_count": null,
   "metadata": {},
   "outputs": [],
   "source": []
  },
  {
   "cell_type": "code",
   "execution_count": null,
   "metadata": {},
   "outputs": [],
   "source": []
  },
  {
   "cell_type": "code",
   "execution_count": null,
   "metadata": {},
   "outputs": [],
   "source": []
  },
  {
   "cell_type": "code",
   "execution_count": null,
   "metadata": {},
   "outputs": [],
   "source": []
  }
 ],
 "metadata": {
  "kernelspec": {
   "display_name": "Python 3",
   "language": "python",
   "name": "python3"
  },
  "language_info": {
   "codemirror_mode": {
    "name": "ipython",
    "version": 3
   },
   "file_extension": ".py",
   "mimetype": "text/x-python",
   "name": "python",
   "nbconvert_exporter": "python",
   "pygments_lexer": "ipython3",
   "version": "3.7.1"
  }
 },
 "nbformat": 4,
 "nbformat_minor": 2
}
