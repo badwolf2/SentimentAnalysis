{
 "cells": [
  {
   "cell_type": "code",
   "execution_count": 1,
   "metadata": {},
   "outputs": [],
   "source": [
    "#Crawl \n",
    "import requests\n",
    "import re\n",
    "from bs4 import BeautifulSoup\n",
    "from newspaper import Article\n",
    "import urllib.request\n",
    "\n",
    "# process \n",
    "import re\n",
    "import pyvi\n",
    "from pyvi import ViTokenizer #For split vietnamese words\n",
    "\n",
    "#vector\n",
    "from sklearn.feature_extraction.text import CountVectorizer\n",
    "\n",
    "#\n",
    "from sklearn.metrics import accuracy_score\n",
    "from sklearn.model_selection import train_test_split\n",
    "\n",
    "# Logistic\n",
    "from sklearn.linear_model import LogisticRegression\n",
    "\n",
    "#SVM\n",
    "from sklearn.svm import SVC"
   ]
  },
  {
   "cell_type": "markdown",
   "metadata": {},
   "source": [
    "# Crawl Data"
   ]
  },
  {
   "cell_type": "code",
   "execution_count": 2,
   "metadata": {},
   "outputs": [
    {
     "name": "stdout",
     "output_type": "stream",
     "text": [
      "28\n"
     ]
    }
   ],
   "source": [
    "#Lấy link các sản phẩm từ trang chủ\n",
    "phoneLinks = set()\n",
    "r1 = requests.get('https://www.thegioididong.com/dtdd' )\n",
    "coverpage = r1.content\n",
    "soup1 = BeautifulSoup(coverpage, 'html.parser')\n",
    "for a in soup1.find_all('a', href=True):\n",
    "    if re.search('/dtdd/.*', a['href']):\n",
    "        if a.find_all('div', class_='ratingresult'):\n",
    "            phoneLinks.add(a['href'])\n",
    "print(len(phoneLinks))"
   ]
  },
  {
   "cell_type": "code",
   "execution_count": 3,
   "metadata": {},
   "outputs": [
    {
     "name": "stdout",
     "output_type": "stream",
     "text": [
      "28\n"
     ]
    }
   ],
   "source": [
    "#Lấy link review sản phẩm\n",
    "reviewLink=set()\n",
    "for link in phoneLinks:\n",
    "    if link.count('https://www.thegioididong.com')==0:\n",
    "        link = 'https://www.thegioididong.com'+link\n",
    "    link = link +'/danh-gia?p='\n",
    "    reviewLink.add(link)\n",
    "    #print(link)\n",
    "print(len(reviewLink))"
   ]
  },
  {
   "cell_type": "code",
   "execution_count": 4,
   "metadata": {},
   "outputs": [
    {
     "name": "stdout",
     "output_type": "stream",
     "text": [
      "1753\n"
     ]
    }
   ],
   "source": [
    "# Trích xuất các đoạn review\n",
    "\n",
    "reviews =[]\n",
    "for link in reviewLink:\n",
    "    i = 1\n",
    "    while True:\n",
    "        link = link+str(i)\n",
    "        try:\n",
    "            page = urllib.request.urlopen(link)\n",
    "            soup = BeautifulSoup(page, 'html.parser')\n",
    "            new_feeds = soup.find(\n",
    "                'ul', class_='ratingLst').find_all('li')\n",
    "            \n",
    "            article = Article(link)\n",
    "            article.download()\n",
    "            article.parse()\n",
    "            soup = BeautifulSoup(article.html, 'html.parser')\n",
    "            html = soup.findAll(\"div\", {\"class\": \"rc\"})\n",
    "            reviews = reviews + html\n",
    "        \n",
    "        except:\n",
    "            break;\n",
    "        i = i+1\n",
    "print(len(reviews))\n"
   ]
  },
  {
   "cell_type": "code",
   "execution_count": 32,
   "metadata": {
    "scrolled": true
   },
   "outputs": [
    {
     "name": "stdout",
     "output_type": "stream",
     "text": [
      "746\n"
     ]
    }
   ],
   "source": [
    "# Từ review tách lấy comment và nhãn (5 sao: >3 sao là đánh giá tốt, <= 3 sao là k tốt)\n",
    "\n",
    "comments = []\n",
    "stars = []\n",
    "labels = []\n",
    "for li in reviews:\n",
    "        rev = str(li).split('\\n')\n",
    "        if len(rev)>9:\n",
    "            comment = rev[9].replace('<i>','').replace('</i>','')\n",
    "            if comments.count(comment)==0:\n",
    "                comments.append(comment)\n",
    "                star = str(li).count('txtstar')\n",
    "                stars.append(star)\n",
    "                if star>3:\n",
    "                    labels.append(1)\n",
    "                else: \n",
    "                    labels.append(0)\n",
    "print(len(comments))"
   ]
  },
  {
   "cell_type": "code",
   "execution_count": 33,
   "metadata": {},
   "outputs": [],
   "source": [
    "# chia đôi data để train và test\n",
    "\n",
    "X_train, X_test, y_train, y_test = train_test_split(\n",
    "    comments, labels, train_size = 0.5\n",
    ")"
   ]
  },
  {
   "cell_type": "markdown",
   "metadata": {},
   "source": [
    "# Tiền xử lý dữ liệu"
   ]
  },
  {
   "cell_type": "code",
   "execution_count": 34,
   "metadata": {},
   "outputs": [],
   "source": [
    "\n",
    "REPLACE_NO_SPACE = re.compile(\"[.;:\\',\\\"()\\[\\]]\")#(\"[.;:!\\'?,\\\"()\\[\\]]\")\n",
    "REPLACE_WITH_SPACE = re.compile(\"(<br\\s*/><br\\s*/>)|(\\-)|(\\/)\")\n",
    "def preprocess_reviews(reviews):\n",
    "    #reviews = [REPLACE_NO_SPACE.sub(\"\", line.lower()) for line in reviews]\n",
    "    reviews = [REPLACE_WITH_SPACE.sub(\" \", line) for line in reviews]\n",
    "    reviews = [line.lstrip() for line in reviews]\n",
    "    #reviews = [ViTokenizer.tokenize(rev) for rev in reviews]\n",
    "    return reviews\n",
    "\n",
    "X_train = preprocess_reviews(X_train)\n",
    "X_test = preprocess_reviews(X_test)"
   ]
  },
  {
   "cell_type": "markdown",
   "metadata": {},
   "source": [
    "# Vector hoá dữ liệu"
   ]
  },
  {
   "cell_type": "code",
   "execution_count": 35,
   "metadata": {},
   "outputs": [],
   "source": [
    "cv = CountVectorizer(binary=True)\n",
    "cv.fit(comments)\n",
    "\n",
    "X_train = cv.transform(X_train)\n",
    "X_test = cv.transform(X_test)"
   ]
  },
  {
   "cell_type": "code",
   "execution_count": 36,
   "metadata": {},
   "outputs": [
    {
     "name": "stdout",
     "output_type": "stream",
     "text": [
      "b =  [-0.99965272]\n",
      "Final Accuracy: 0.7560321715817694\n"
     ]
    }
   ],
   "source": [
    "# SVM \n",
    "\n",
    "def SVM():\n",
    "    clf = SVC(kernel = 'linear', C = 1e5) # just a big number \n",
    "    clf.fit(X_train.toarray(), y_train) \n",
    "\n",
    "    w = clf.coef_\n",
    "    b = clf.intercept_\n",
    "    #print('w = ', w)\n",
    "    print('b = ', b)\n",
    "    \n",
    "    print (\"Final Accuracy: %s\"% accuracy_score(y_test, clf.predict(X_test.toarray())))\n",
    "SVM()"
   ]
  },
  {
   "cell_type": "code",
   "execution_count": 37,
   "metadata": {},
   "outputs": [
    {
     "name": "stdout",
     "output_type": "stream",
     "text": [
      "accuracy_train:  93.02949061662198\n",
      "accuracy_test:  82.03753351206434\n"
     ]
    }
   ],
   "source": [
    "# naive bayes\n",
    "\n",
    "from sklearn.naive_bayes import MultinomialNB, BernoulliNB\n",
    "\n",
    "clf = MultinomialNB()\n",
    "clf.fit(X_train, y_train)\n",
    "\n",
    "y_pred_train = clf.predict(X_train)\n",
    "\n",
    "y_pred_test = clf.predict(X_test)\n",
    "\n",
    "acc_test = accuracy_score(y_pred_test,y_test)\n",
    "\n",
    "acc_train = accuracy_score(y_pred_train,y_train)\n",
    "\n",
    "print('accuracy_train: ', acc_train*100)\n",
    "\n",
    "print('accuracy_test: ', acc_test*100)"
   ]
  },
  {
   "cell_type": "code",
   "execution_count": 38,
   "metadata": {},
   "outputs": [
    {
     "name": "stdout",
     "output_type": "stream",
     "text": [
      "accurracy_test perceptron:  0.8176943699731903\n"
     ]
    }
   ],
   "source": [
    "# Perceptron\n",
    "from sklearn.linear_model import Perceptron\n",
    "\n",
    "def perceptron():\n",
    "    clf = Perceptron(tol=1e-3, random_state=0)\n",
    "    clf.fit(X_train, y_train)\n",
    "    acc_train=clf.score(X_train, y_train)\n",
    "    acc_test =clf.score(X_test, y_test)\n",
    "    #print('accurracy_train of folder {}: ', acc_train)\n",
    "    print('accurracy_test perceptron: ', acc_test)\n",
    "perceptron()"
   ]
  },
  {
   "cell_type": "code",
   "execution_count": 39,
   "metadata": {},
   "outputs": [
    {
     "name": "stderr",
     "output_type": "stream",
     "text": [
      "C:\\Users\\Thuy\\Anaconda3\\lib\\site-packages\\sklearn\\model_selection\\_split.py:2179: FutureWarning: From version 0.21, test_size will always complement train_size unless both are specified.\n",
      "  FutureWarning)\n",
      "C:\\Users\\Thuy\\Anaconda3\\lib\\site-packages\\sklearn\\linear_model\\logistic.py:433: FutureWarning: Default solver will be changed to 'lbfgs' in 0.22. Specify a solver to silence this warning.\n",
      "  FutureWarning)\n"
     ]
    },
    {
     "name": "stdout",
     "output_type": "stream",
     "text": [
      "Final Accuracy logistic: 0.8096514745308311\n"
     ]
    }
   ],
   "source": [
    "# logistic\n",
    "\n",
    "X_trainlog, X_testlog, y_trainlog, y_testlog = train_test_split(\n",
    "    X_train, y_train, train_size = 0.75\n",
    ")\n",
    "\n",
    "\n",
    "def logistic():\n",
    "    for c in [0.01, 0.05, 0.25, 0.5, 1]:\n",
    "        lr = LogisticRegression(C=c)\n",
    "        lr.fit(X_trainlog, y_trainlog)\n",
    "        \n",
    "        #print (\"Accuracy for C=%s: %s\" % (c, accuracy_score(y_testlog, lr.predict(X_testlog))*100))\n",
    "        \n",
    "    final_model = LogisticRegression(C=0.05)\n",
    "    final_model.fit(X_train, y_train)\n",
    "    print (\"Final Accuracy logistic: %s\"% accuracy_score(y_test, final_model.predict(X_test)))\n",
    "logistic()"
   ]
  },
  {
   "cell_type": "code",
   "execution_count": null,
   "metadata": {},
   "outputs": [],
   "source": [
    "\n"
   ]
  },
  {
   "cell_type": "code",
   "execution_count": 40,
   "metadata": {},
   "outputs": [],
   "source": [
    "with open('data.txt','w',encoding=\"utf8\") as f:\n",
    "    f.write('\\n'.join(comments))\n",
    "    f.close()"
   ]
  },
  {
   "cell_type": "code",
   "execution_count": null,
   "metadata": {},
   "outputs": [],
   "source": [
    "# ========== SORT ====================\n",
    "zipped_pairs = zip(labels,comments ) \n",
    "comments = [x for _, x in sorted(zipped_pairs)] \n",
    "labels = sorted(labels)\n",
    "\n",
    "an_iterator = filter(lambda number: number ==0, labels)\n",
    "numNeg = len(list(an_iterator))\n",
    "print(numNeg)"
   ]
  },
  {
   "cell_type": "code",
   "execution_count": null,
   "metadata": {},
   "outputs": [],
   "source": [
    "#=============== shuffle ================\n",
    "import random\n",
    "random.seed(2)\n",
    "random.shuffle(labels)\n",
    "random.seed(2)\n",
    "random.shuffle(comments)"
   ]
  },
  {
   "cell_type": "code",
   "execution_count": null,
   "metadata": {},
   "outputs": [],
   "source": []
  }
 ],
 "metadata": {
  "kernelspec": {
   "display_name": "Python 3",
   "language": "python",
   "name": "python3"
  },
  "language_info": {
   "codemirror_mode": {
    "name": "ipython",
    "version": 3
   },
   "file_extension": ".py",
   "mimetype": "text/x-python",
   "name": "python",
   "nbconvert_exporter": "python",
   "pygments_lexer": "ipython3",
   "version": "3.7.1"
  }
 },
 "nbformat": 4,
 "nbformat_minor": 2
}
